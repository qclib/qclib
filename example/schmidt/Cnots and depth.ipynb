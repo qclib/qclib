{
 "cells": [
  {
   "cell_type": "markdown",
   "id": "canadian-reporter",
   "metadata": {},
   "source": [
    "# Qiskit config"
   ]
  },
  {
   "cell_type": "code",
   "execution_count": 1,
   "id": "stylish-integer",
   "metadata": {},
   "outputs": [],
   "source": [
    "from qiskit import transpile"
   ]
  },
  {
   "cell_type": "markdown",
   "id": "42470241",
   "metadata": {},
   "source": [
    "# Qclib"
   ]
  },
  {
   "cell_type": "code",
   "execution_count": 2,
   "id": "0a42ca18",
   "metadata": {},
   "outputs": [],
   "source": [
    "import numpy as np\n",
    "import sys\n",
    "sys.path.append('../../')\n",
    "from qclib.state_preparation.schmidt import initialize"
   ]
  },
  {
   "cell_type": "markdown",
   "id": "ea8208a9",
   "metadata": {},
   "source": [
    "# Uniform state"
   ]
  },
  {
   "cell_type": "code",
   "execution_count": 3,
   "id": "00abdbfb",
   "metadata": {},
   "outputs": [
    {
     "name": "stdout",
     "output_type": "stream",
     "text": [
      "n = 3\tCNOTs = 0\tdepth = 1\n",
      "n = 4\tCNOTs = 0\tdepth = 1\n",
      "n = 5\tCNOTs = 0\tdepth = 1\n",
      "n = 6\tCNOTs = 0\tdepth = 1\n",
      "n = 7\tCNOTs = 0\tdepth = 1\n",
      "n = 8\tCNOTs = 0\tdepth = 1\n",
      "n = 9\tCNOTs = 0\tdepth = 1\n",
      "n = 10\tCNOTs = 0\tdepth = 1\n"
     ]
    }
   ],
   "source": [
    "min_n = 3\n",
    "max_n = 10\n",
    "\n",
    "for n in range(min_n, max_n+1):\n",
    "    input_state = np.ones(2**n)\n",
    "    input_state = input_state/np.linalg.norm(input_state)\n",
    "\n",
    "    circuit = initialize(input_state)\n",
    "    transpiled_circuit = transpile(circuit, basis_gates=['u1','u2','u3', 'cx'], optimization_level=3)\n",
    "\n",
    "    count_ops = transpiled_circuit.count_ops()\n",
    "    n_cx = 0\n",
    "    if 'cx' in count_ops:\n",
    "        n_cx = count_ops['cx']\n",
    "    n_dp = transpiled_circuit.depth()\n",
    "\n",
    "    print('n = {0}\\tCNOTs = {1}\\tdepth = {2}'.format(n, n_cx, n_dp))"
   ]
  },
  {
   "cell_type": "markdown",
   "id": "fa4e865d",
   "metadata": {},
   "source": [
    "# Random rank 1 state"
   ]
  },
  {
   "cell_type": "code",
   "execution_count": 4,
   "id": "058e08bd",
   "metadata": {},
   "outputs": [
    {
     "name": "stdout",
     "output_type": "stream",
     "text": [
      "n = 3\tCNOTs = 0\tdepth = 1\n",
      "n = 4\tCNOTs = 0\tdepth = 1\n",
      "n = 5\tCNOTs = 0\tdepth = 1\n",
      "n = 6\tCNOTs = 0\tdepth = 1\n",
      "n = 7\tCNOTs = 0\tdepth = 1\n",
      "n = 8\tCNOTs = 0\tdepth = 1\n",
      "n = 9\tCNOTs = 0\tdepth = 1\n",
      "n = 10\tCNOTs = 0\tdepth = 1\n"
     ]
    }
   ],
   "source": [
    "# input_state.reshape(lines, cols) is a matrix with equal columns.\n",
    "\n",
    "rnd = np.random.RandomState(42)\n",
    "\n",
    "min_n = 3\n",
    "max_n = 10\n",
    "\n",
    "for n in range(min_n, max_n+1):\n",
    "    N = 2**n\n",
    "    \n",
    "    input_state = [1]\n",
    "    for _ in range(n):\n",
    "        v = np.random.rand(2) + np.random.rand(2) * 1j\n",
    "        v = v / np.linalg.norm(v)\n",
    "        input_state = np.kron(input_state, v)\n",
    "    \n",
    "    circuit = initialize(input_state)\n",
    "    transpiled_circuit = transpile(circuit, basis_gates=['u1','u2','u3', 'cx'], optimization_level=3)\n",
    "\n",
    "    count_ops = transpiled_circuit.count_ops()\n",
    "    n_cx = 0\n",
    "    if 'cx' in count_ops:\n",
    "        n_cx = count_ops['cx']\n",
    "    n_dp = transpiled_circuit.depth()\n",
    "\n",
    "    print('n = {0}\\tCNOTs = {1}\\tdepth = {2}'.format(n, n_cx, n_dp))"
   ]
  },
  {
   "cell_type": "markdown",
   "id": "d67ee540",
   "metadata": {},
   "source": [
    "# Random sparse states"
   ]
  },
  {
   "cell_type": "code",
   "execution_count": 7,
   "id": "154afa2f",
   "metadata": {},
   "outputs": [
    {
     "name": "stdout",
     "output_type": "stream",
     "text": [
      "\n",
      "n = 3\n",
      "\trank = 2\tCNOTs = 3\tdepth = 7\n",
      "\trank = 1\tCNOTs = 0\tdepth = 1\n",
      "\n",
      "n = 4\n",
      "\trank = 4\tCNOTs = 8\tdepth = 11\n",
      "\trank = 2\tCNOTs = 4\tdepth = 7\n",
      "\trank = 1\tCNOTs = 1\tdepth = 3\n",
      "\n",
      "n = 5\n",
      "\trank = 4\tCNOTs = 30\tdepth = 51\n",
      "\trank = 2\tCNOTs = 14\tdepth = 23\n",
      "\trank = 1\tCNOTs = 5\tdepth = 9\n",
      "\n",
      "n = 6\n",
      "\trank = 8\tCNOTs = 55\tdepth = 59\n",
      "\trank = 4\tCNOTs = 51\tdepth = 51\n",
      "\trank = 2\tCNOTs = 21\tdepth = 23\n",
      "\trank = 1\tCNOTs = 8\tdepth = 9\n",
      "\n",
      "n = 7\n",
      "\trank = 8\tCNOTs = 153\tdepth = 244\n",
      "\trank = 4\tCNOTs = 84\tdepth = 115\n",
      "\trank = 2\tCNOTs = 36\tdepth = 51\n",
      "\trank = 1\tCNOTs = 13\tdepth = 11\n",
      "\n",
      "n = 8\n",
      "\trank = 16\tCNOTs = 253\tdepth = 247\n",
      "\trank = 8\tCNOTs = 251\tdepth = 244\n",
      "\trank = 4\tCNOTs = 117\tdepth = 115\n",
      "\trank = 2\tCNOTs = 51\tdepth = 51\n",
      "\trank = 1\tCNOTs = 18\tdepth = 11\n",
      "\n",
      "n = 9\n",
      "\trank = 16\tCNOTs = 678\tdepth = 1074\n",
      "\trank = 8\tCNOTs = 390\tdepth = 520\n",
      "\trank = 4\tCNOTs = 182\tdepth = 243\n",
      "\trank = 2\tCNOTs = 82\tdepth = 111\n",
      "\trank = 1\tCNOTs = 39\tdepth = 51\n",
      "\n",
      "n = 10\n",
      "\trank = 32\tCNOTs = 1089\tdepth = 1076\n",
      "\trank = 16\tCNOTs = 1104\tdepth = 1074\n",
      "\trank = 8\tCNOTs = 529\tdepth = 520\n",
      "\trank = 4\tCNOTs = 247\tdepth = 243\n",
      "\trank = 2\tCNOTs = 113\tdepth = 111\n",
      "\trank = 1\tCNOTs = 60\tdepth = 51\n"
     ]
    }
   ],
   "source": [
    "import random\n",
    "rnd = np.random.RandomState(42)\n",
    "\n",
    "min_n = 3\n",
    "max_n = 10\n",
    "zeros = 0.75\n",
    "\n",
    "for n in range(min_n, max_n+1):\n",
    "    print('\\nn = {0}'.format(n))\n",
    "    \n",
    "    N = int(2**n * (1-zeros))\n",
    "    rand = ((1.0 - 0.001) * rnd.rand(N) + 0.001) + ((1.0 - 0.001) * rnd.rand(N) + 0.001) * 1j\n",
    "    \n",
    "    # Randomly distributed amplitudes and zeros.\n",
    "    input_state = random.sample([0]*(2**n-len(rand)) + list(rand), 2**n)\n",
    "    # All amplitudes at the beginning of the state.\n",
    "    #input_state = list(rand) + [0]*(2**n-len(rand))\n",
    "    \n",
    "    input_state = input_state/np.linalg.norm(input_state)\n",
    "\n",
    "    for m in list(range(n//2+1))[::-1]: # iso:{1<=rank<2**(n_qubits//2)};uni:{rank=2**(n_qubits//2)}\n",
    "        r = 2**m\n",
    "\n",
    "        circuit = initialize(input_state, low_rank = r)\n",
    "        transpiled_circuit = transpile(circuit, basis_gates=['u1','u2','u3', 'cx'], optimization_level=3)\n",
    "        \n",
    "        count_ops = transpiled_circuit.count_ops()\n",
    "        n_cx = 0\n",
    "        if 'cx' in count_ops:\n",
    "            n_cx = count_ops['cx']\n",
    "        n_dp = transpiled_circuit.depth()\n",
    "        \n",
    "        print('\\trank = {0}\\tCNOTs = {1}\\tdepth = {2}'.format(r, n_cx, n_dp))"
   ]
  },
  {
   "cell_type": "markdown",
   "id": "another-decision",
   "metadata": {},
   "source": [
    "# Random dense states"
   ]
  },
  {
   "cell_type": "code",
   "execution_count": 8,
   "id": "painted-clone",
   "metadata": {},
   "outputs": [
    {
     "name": "stdout",
     "output_type": "stream",
     "text": [
      "\n",
      "n = 3\n",
      "\trank = 2\tCNOTs = 4\tdepth = 9\n",
      "\trank = 1\tCNOTs = 1\tdepth = 3\n",
      "\n",
      "n = 4\n",
      "\trank = 4\tCNOTs = 9\tdepth = 11\n",
      "\trank = 2\tCNOTs = 7\tdepth = 9\n",
      "\trank = 1\tCNOTs = 2\tdepth = 3\n",
      "\n",
      "n = 5\n",
      "\trank = 4\tCNOTs = 30\tdepth = 51\n",
      "\trank = 2\tCNOTs = 14\tdepth = 23\n",
      "\trank = 1\tCNOTs = 5\tdepth = 9\n",
      "\n",
      "n = 6\n",
      "\trank = 8\tCNOTs = 55\tdepth = 59\n",
      "\trank = 4\tCNOTs = 51\tdepth = 51\n",
      "\trank = 2\tCNOTs = 21\tdepth = 23\n",
      "\trank = 1\tCNOTs = 8\tdepth = 9\n",
      "\n",
      "n = 7\n",
      "\trank = 8\tCNOTs = 153\tdepth = 244\n",
      "\trank = 4\tCNOTs = 84\tdepth = 115\n",
      "\trank = 2\tCNOTs = 36\tdepth = 51\n",
      "\trank = 1\tCNOTs = 13\tdepth = 11\n",
      "\n",
      "n = 8\n",
      "\trank = 16\tCNOTs = 252\tdepth = 245\n",
      "\trank = 8\tCNOTs = 251\tdepth = 244\n",
      "\trank = 4\tCNOTs = 117\tdepth = 115\n",
      "\trank = 2\tCNOTs = 51\tdepth = 51\n",
      "\trank = 1\tCNOTs = 18\tdepth = 11\n",
      "\n",
      "n = 9\n",
      "\trank = 16\tCNOTs = 678\tdepth = 1074\n",
      "\trank = 8\tCNOTs = 390\tdepth = 520\n",
      "\trank = 4\tCNOTs = 182\tdepth = 243\n",
      "\trank = 2\tCNOTs = 82\tdepth = 111\n",
      "\trank = 1\tCNOTs = 39\tdepth = 51\n",
      "\n",
      "n = 10\n",
      "\trank = 32\tCNOTs = 1090\tdepth = 1077\n",
      "\trank = 16\tCNOTs = 1105\tdepth = 1076\n",
      "\trank = 8\tCNOTs = 529\tdepth = 520\n",
      "\trank = 4\tCNOTs = 247\tdepth = 243\n",
      "\trank = 2\tCNOTs = 113\tdepth = 111\n",
      "\trank = 1\tCNOTs = 60\tdepth = 51\n"
     ]
    }
   ],
   "source": [
    "min_n = 3\n",
    "max_n = 10\n",
    "\n",
    "result = {}\n",
    "for n in range(min_n, max_n+1):\n",
    "    print('\\nn = {0}'.format(n))\n",
    "\n",
    "    N = 2**n\n",
    "    input_state = ((1.0 - 0.001) * rnd.rand(N) + 0.001) + ((1.0 - 0.001) * rnd.rand(N) + 0.001) * 1j\n",
    "    input_state = input_state/np.linalg.norm(input_state)\n",
    "\n",
    "    result[n] = []\n",
    "    \n",
    "    for m in list(range(n//2+1))[::-1]: # iso:{1<=rank<2**(n_qubits//2)};uni:{rank=2**(n_qubits//2)}\n",
    "        r = 2**m\n",
    "\n",
    "        circuit = initialize(input_state, low_rank = r)\n",
    "        transpiled_circuit = transpile(circuit, basis_gates=['u1','u2','u3', 'cx'], optimization_level=3)\n",
    "        \n",
    "        count_ops = transpiled_circuit.count_ops()\n",
    "        n_cx = 0\n",
    "        if 'cx' in count_ops:\n",
    "            n_cx = count_ops['cx']\n",
    "        n_dp = transpiled_circuit.depth()\n",
    "        \n",
    "        result[n].append([m, n_cx, n_dp])\n",
    "        \n",
    "        print('\\trank = {0}\\tCNOTs = {1}\\tdepth = {2}'.format(r, n_cx, n_dp))\n"
   ]
  },
  {
   "cell_type": "markdown",
   "id": "descending-frost",
   "metadata": {},
   "source": [
    "# Plot dense results"
   ]
  },
  {
   "cell_type": "code",
   "execution_count": null,
   "id": "floppy-missouri",
   "metadata": {},
   "outputs": [],
   "source": [
    "def plot(r, n_cx, n_dp):\n",
    "    # libraries\n",
    "    import matplotlib.pyplot as plt\n",
    "    import numpy as np\n",
    "    import pandas as pd\n",
    "\n",
    "    # Data\n",
    "    df=pd.DataFrame({ 'x_values': r, 'cnots': n_cx, 'depth': n_dp })\n",
    "\n",
    "    # multiple line plots\n",
    "    plt.plot( 'x_values', 'cnots' , data=df, marker='o', markersize=8)\n",
    "    plt.plot( 'x_values', 'depth' , data=df, marker='^', markersize=8)\n",
    "    plt.xticks(r) # force integer on x axis\n",
    "    # show legend\n",
    "    plt.legend()\n",
    "    \n",
    "    # config\n",
    "    plt.legend(fontsize=12)\n",
    "    plt.xticks(r, fontsize=14)\n",
    "    plt.xlabel('m', fontsize=16)\n",
    "    plt.gcf().set_dpi(200)\n",
    "    \n",
    "    # show graph\n",
    "    plt.show()\n",
    "\n",
    "def plot_result(n, result):\n",
    "    r_range = [r[0] for r in result[n]]\n",
    "    n_cx    = [r[1] for r in result[n]]\n",
    "    n_dp    = [r[2] for r in result[n]]\n",
    "\n",
    "    plot(r_range, n_cx, n_dp)\n",
    "\n",
    "for n in range(min_n, max_n+1):\n",
    "    plot_result(n, result)"
   ]
  },
  {
   "cell_type": "code",
   "execution_count": null,
   "id": "every-burden",
   "metadata": {},
   "outputs": [],
   "source": []
  }
 ],
 "metadata": {
  "kernelspec": {
   "display_name": "Python 3 (ipykernel)",
   "language": "python",
   "name": "python3"
  },
  "language_info": {
   "codemirror_mode": {
    "name": "ipython",
    "version": 3
   },
   "file_extension": ".py",
   "mimetype": "text/x-python",
   "name": "python",
   "nbconvert_exporter": "python",
   "pygments_lexer": "ipython3",
   "version": "3.8.12"
  }
 },
 "nbformat": 4,
 "nbformat_minor": 5
}
