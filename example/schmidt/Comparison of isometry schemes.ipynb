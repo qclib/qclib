{
 "cells": [
  {
   "cell_type": "markdown",
   "id": "canadian-reporter",
   "metadata": {},
   "source": [
    "# Qiskit config"
   ]
  },
  {
   "cell_type": "code",
   "execution_count": 1,
   "id": "stylish-integer",
   "metadata": {},
   "outputs": [],
   "source": [
    "from qiskit import transpile"
   ]
  },
  {
   "cell_type": "markdown",
   "id": "another-decision",
   "metadata": {},
   "source": [
    "# Experiment"
   ]
  },
  {
   "cell_type": "code",
   "execution_count": 2,
   "id": "painted-clone",
   "metadata": {},
   "outputs": [
    {
     "name": "stdout",
     "output_type": "stream",
     "text": [
      "\n",
      "low rank approx. = 2\n",
      "\n",
      "n = 3\n",
      "\t knill\t\t CNOTs = 4\t depth = 9\n",
      "\t ccd\t\t CNOTs = 4\t depth = 9\n",
      "\t full rank\t CNOTs = 4\t depth = 9\n",
      "\n",
      "n = 4\n",
      "\t knill\t\t CNOTs = 7\t depth = 9\n",
      "\t ccd\t\t CNOTs = 7\t depth = 9\n",
      "\t full rank\t CNOTs = 9\t depth = 11\n",
      "\n",
      "n = 5\n",
      "\t knill\t\t CNOTs = 31\t depth = 53\n",
      "\t ccd\t\t CNOTs = 14\t depth = 23\n",
      "\t full rank\t CNOTs = 30\t depth = 53\n",
      "\n",
      "n = 6\n",
      "\t knill\t\t CNOTs = 67\t depth = 75\n",
      "\t ccd\t\t CNOTs = 21\t depth = 23\n",
      "\t full rank\t CNOTs = 54\t depth = 57\n",
      "\n",
      "n = 7\n",
      "\t knill\t\t CNOTs = 127\t depth = 150\n",
      "\t ccd\t\t CNOTs = 36\t depth = 51\n",
      "\t full rank\t CNOTs = 150\t depth = 243\n",
      "\n",
      "n = 8\n",
      "\t knill\t\t CNOTs = 168\t depth = 150\n",
      "\t ccd\t\t CNOTs = 51\t depth = 51\n",
      "\t full rank\t CNOTs = 252\t depth = 245\n"
     ]
    }
   ],
   "source": [
    "import numpy as np\n",
    "import sys\n",
    "sys.path.append('../../')\n",
    "from qclib.state_preparation.schmidt import initialize\n",
    "from qclib.state_preparation.schmidt import initialize_original\n",
    "\n",
    "r = 2\n",
    "print('\\nlow rank approx. =', r)\n",
    "\n",
    "result = {}\n",
    "for n in range(3, 9):\n",
    "    N = 2**n\n",
    "    print('\\nn =', n)\n",
    "        \n",
    "    input_state = ((1.0 - 0.01) * np.random.rand(N) + 0.01) + ((1.0 - 0.01) * np.random.rand(N) + 0.01) * 1j\n",
    "    input_state = input_state/np.linalg.norm(input_state)\n",
    "\n",
    "    result[n] = []\n",
    "    \n",
    "    circuit1 = initialize(input_state, low_rank = r, isometry_scheme='knill')\n",
    "    circuit2 = initialize(input_state, low_rank = r, isometry_scheme='ccd')\n",
    "    circuit3 = initialize(input_state)\n",
    "    \n",
    "    transpiled_circuit1 = transpile(circuit1, basis_gates=['u1','u2','u3', 'cx'], optimization_level=3)\n",
    "    transpiled_circuit2 = transpile(circuit2, basis_gates=['u1','u2','u3', 'cx'], optimization_level=3)\n",
    "    transpiled_circuit3 = transpile(circuit3, basis_gates=['u1','u2','u3', 'cx'], optimization_level=3)\n",
    "    \n",
    "    n_cx1 = transpiled_circuit1.count_ops()['cx']\n",
    "    n_dp1 = transpiled_circuit1.depth()\n",
    "    n_cx2 = transpiled_circuit2.count_ops()['cx']\n",
    "    n_dp2 = transpiled_circuit2.depth()\n",
    "    n_cx3 = transpiled_circuit3.count_ops()['cx']\n",
    "    n_dp3 = transpiled_circuit3.depth()\n",
    "\n",
    "    result[n].append(['knill', n_cx1, n_dp1])\n",
    "    result[n].append(['ccd', n_cx2, n_dp2])\n",
    "    result[n].append(['fullrank', n_cx3, n_dp3])\n",
    "\n",
    "    print('\\t {0}\\t\\t CNOTs = {1}\\t depth = {2}'.format('knill', n_cx1, n_dp1))\n",
    "    print('\\t {0}\\t\\t CNOTs = {1}\\t depth = {2}'.format('ccd', n_cx2, n_dp2))\n",
    "    print('\\t {0}\\t CNOTs = {1}\\t depth = {2}'.format('full rank', n_cx3, n_dp3))\n",
    "        "
   ]
  },
  {
   "cell_type": "code",
   "execution_count": null,
   "id": "separated-pound",
   "metadata": {},
   "outputs": [],
   "source": []
  }
 ],
 "metadata": {
  "kernelspec": {
   "display_name": "Python 3 (ipykernel)",
   "language": "python",
   "name": "python3"
  },
  "language_info": {
   "codemirror_mode": {
    "name": "ipython",
    "version": 3
   },
   "file_extension": ".py",
   "mimetype": "text/x-python",
   "name": "python",
   "nbconvert_exporter": "python",
   "pygments_lexer": "ipython3",
   "version": "3.7.11"
  }
 },
 "nbformat": 4,
 "nbformat_minor": 5
}
