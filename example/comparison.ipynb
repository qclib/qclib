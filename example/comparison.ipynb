{
 "cells": [
  {
   "cell_type": "code",
   "execution_count": 7,
   "metadata": {},
   "outputs": [
    {
     "data": {
      "text/markdown": [
       "| method | lib | qubits | cnots | depth |\n",
       "| --- | --- |:---:|:---:|:---:|\n",
       "| low-rank | qclib | 15 | 30999 | 53645 |\n",
       "| svd | qclib | 15 | 38813 | 71581 |\n",
       "| isometry | qiskit | 15 | 32752 | 131011 |\n",
       "| multiplexor | qiskit | 15 | 65504 | 131025 |\n",
       "| bdsp | qclib | 1151 | 72320 | 1603 |\n",
       "| dcsp | qclib | 32767 | 262016 | 899 |\n"
      ],
      "text/plain": [
       "<IPython.core.display.Markdown object>"
      ]
     },
     "metadata": {},
     "output_type": "display_data"
    }
   ],
   "source": [
    "import numpy as np\n",
    "from IPython.display import Markdown, display\n",
    "from qiskit import QuantumCircuit, QuantumRegister, transpile\n",
    "from qclib.state_preparation import LowRankInitialize, \\\n",
    "                                    DcspInitialize,    \\\n",
    "                                    BdspInitialize,    \\\n",
    "                                    SVDInitialize\n",
    "n_qubits = 15\n",
    "\n",
    "state = np.random.rand(2 ** n_qubits) + np.random.rand(2 ** n_qubits) * 1j\n",
    "state = state/np.linalg.norm(state)\n",
    "\n",
    "# qclib low-rank\n",
    "circuit_low = QuantumCircuit(n_qubits)\n",
    "LowRankInitialize.initialize(circuit_low, state)\n",
    "# qclib svd\n",
    "circuit_svd = QuantumCircuit(n_qubits)\n",
    "SVDInitialize.initialize(circuit_svd, state)\n",
    "# qclib bdsp\n",
    "circuit_bdsp = BdspInitialize(state).definition\n",
    "# qclib dcsp\n",
    "circuit_dcsp = DcspInitialize(state).definition\n",
    "# qiskit multiplexor\n",
    "circuit_mul = QuantumCircuit(n_qubits)\n",
    "circuit_mul.initialize(state)\n",
    "# qiskit isometry\n",
    "reg_iso = QuantumRegister(n_qubits)\n",
    "circuit_iso = QuantumCircuit(reg_iso)\n",
    "circuit_iso.isometry(state, q_input=[], q_ancillas_for_output=reg_iso)\n",
    "\n",
    "# print results\n",
    "circuits = [('low-rank',    'qclib',  circuit_low),\n",
    "            ('svd',         'qclib',  circuit_svd),\n",
    "            ('isometry',    'qiskit', circuit_iso),\n",
    "            ('multiplexor', 'qiskit', circuit_mul),\n",
    "            ('bdsp',        'qclib',  circuit_bdsp),\n",
    "            ('dcsp',        'qclib',  circuit_dcsp)]\n",
    "\n",
    "table = '| method | lib | qubits | cnots | depth |\\n'\n",
    "table += '| --- | --- |:---:|:---:|:---:|\\n'\n",
    "for label, lib, circuit in circuits:\n",
    "    transpiled = transpile(circuit, basis_gates=['u', 'cx'], optimization_level=0)\n",
    "\n",
    "    qubits = len(transpiled.qubits)\n",
    "    depth = transpiled.depth()\n",
    "    cx = transpiled.count_ops().get('cx', 0)\n",
    "\n",
    "    table += f'| {label} | {lib} | {qubits} | {cx} | {depth} |\\n'\n",
    "\n",
    "display(Markdown(table))\n"
   ]
  }
 ],
 "metadata": {
  "kernelspec": {
   "display_name": "Python 3.9.2 64-bit",
   "language": "python",
   "name": "python3"
  },
  "language_info": {
   "codemirror_mode": {
    "name": "ipython",
    "version": 3
   },
   "file_extension": ".py",
   "mimetype": "text/x-python",
   "name": "python",
   "nbconvert_exporter": "python",
   "pygments_lexer": "ipython3",
   "version": "3.9.2"
  },
  "orig_nbformat": 4,
  "vscode": {
   "interpreter": {
    "hash": "31f2aee4e71d21fbe5cf8b01ff0e069b9275f58929596ceb00d14d90e3e16cd6"
   }
  }
 },
 "nbformat": 4,
 "nbformat_minor": 2
}
