{
 "cells": [
  {
   "cell_type": "markdown",
   "id": "canadian-reporter",
   "metadata": {},
   "source": [
    "# Qiskit config"
   ]
  },
  {
   "cell_type": "code",
   "execution_count": 1,
   "id": "stylish-integer",
   "metadata": {},
   "outputs": [],
   "source": [
    "from qiskit import IBMQ, QuantumCircuit, ClassicalRegister, QuantumRegister, execute, Aer, transpile\n",
    "from qiskit.test.mock import FakeMontreal, FakeMumbai\n",
    "\n",
    "IBMQ.load_account()\n",
    "provider = IBMQ.get_provider(hub='ibm-q-research') # 'ibm-q'\n",
    "\n",
    "backend_0  = Aer.get_backend('qasm_simulator') \n",
    "backend_1  = provider.get_backend('ibmq_qasm_simulator')\n",
    "backend_2  = provider.get_backend('ibmq_santiago')\n",
    "backend_3  = provider.get_backend('ibmq_manila')\n",
    "backend_4  = provider.get_backend('ibmq_casablanca')\n",
    "backend_5  = provider.get_backend('ibmq_jakarta')\n",
    "backend_6  = FakeMontreal()\n",
    "backend_7  = FakeMumbai()\n",
    "\n",
    "shots      = 8192"
   ]
  },
  {
   "cell_type": "code",
   "execution_count": 2,
   "id": "moved-heritage",
   "metadata": {},
   "outputs": [],
   "source": [
    "\"\"\"\n",
    "    Select the backends that will be compared.\n",
    "\"\"\"\n",
    "#backends = [ backend_0 ]\n",
    "#backends = [ backend_0, backend_1 ]\n",
    "#backends = [ backend_2, backend_3 ]\n",
    "#backends = [ backend_4, backend_5 ]\n",
    "backends = [ backend_6, backend_7 ]\n",
    "#backends = [ backend_2, backend_3, backend_4, backend_5 ]"
   ]
  },
  {
   "cell_type": "markdown",
   "id": "downtown-analysis",
   "metadata": {},
   "source": [
    "# Experiment procedures"
   ]
  },
  {
   "cell_type": "code",
   "execution_count": 9,
   "id": "fleet-albania",
   "metadata": {},
   "outputs": [],
   "source": [
    "import sys\n",
    "sys.path.append('../../')\n",
    "from qclib.state_preparation.bdsp import initialize\n",
    "\n",
    "def measurement(circuit, c):\n",
    "    n = len(c)\n",
    "    circuit.measure(list(range(n)), c)\n",
    "\n",
    "    job = execute(circuit, backend, shots=shots, optimization_level=3)\n",
    "    \n",
    "    counts = job.result().get_counts(circuit)\n",
    "    v = sum(counts.values())\n",
    "    \n",
    "    counts2 = {}\n",
    "    for m in range(2**n):\n",
    "        pattern = '{:0{}b}'.format(m, n)\n",
    "        if pattern in counts:\n",
    "            counts2[pattern] = counts[pattern]\n",
    "        else:\n",
    "            counts2[pattern] = 0.0\n",
    "            \n",
    "    return { key : value/v for (key, value) in counts2.items() }\n",
    "    \n",
    "def bidirectional_experiment(state, s=None):\n",
    "    circuit = initialize(state, s)\n",
    "\n",
    "    n = int(np.log2(len(input_state)))\n",
    "    c = ClassicalRegister(n)\n",
    "    circuit.barrier()\n",
    "    circuit.add_register(c)\n",
    "\n",
    "    return measurement(circuit, c)\n"
   ]
  },
  {
   "cell_type": "markdown",
   "id": "another-decision",
   "metadata": {},
   "source": [
    "# Experiment"
   ]
  },
  {
   "cell_type": "code",
   "execution_count": 10,
   "id": "painted-clone",
   "metadata": {},
   "outputs": [
    {
     "name": "stdout",
     "output_type": "stream",
     "text": [
      "n = 3\n",
      "\n",
      "Input vector probabilities (|x|^2):\n",
      "{'000': 0.03, '001': 0.06, '010': 0.15000000000000002, '011': 0.049999999999999996, '100': 0.1, '101': 0.29999999999999993, '110': 0.19999999999999998, '111': 0.10999999999999999}\n",
      "\n",
      "s = 1\n",
      "\n",
      "\tExperiments using fake_montreal backend, with 27 qubits available.\n",
      "\tIter: 0\n",
      "\t {'000': 0.0799560546875, '001': 0.079833984375, '010': 0.1197509765625, '011': 0.0777587890625, '100': 0.15478515625, '101': 0.2066650390625, '110': 0.14990234375, '111': 0.13134765625}\n",
      "\tIter: 1\n",
      "\t {'000': 0.0831298828125, '001': 0.0767822265625, '010': 0.1168212890625, '011': 0.0765380859375, '100': 0.1529541015625, '101': 0.1978759765625, '110': 0.1617431640625, '111': 0.1341552734375}\n",
      "\tIter: 2\n",
      "\t {'000': 0.0811767578125, '001': 0.0821533203125, '010': 0.110595703125, '011': 0.0718994140625, '100': 0.1585693359375, '101': 0.2164306640625, '110': 0.1551513671875, '111': 0.1240234375}\n",
      "\tIter: 3\n",
      "\t {'000': 0.088134765625, '001': 0.0762939453125, '010': 0.11767578125, '011': 0.0767822265625, '100': 0.1558837890625, '101': 0.1944580078125, '110': 0.15576171875, '111': 0.135009765625}\n",
      "\tIter: 4\n",
      "\t {'000': 0.09130859375, '001': 0.09375, '010': 0.115234375, '011': 0.08447265625, '100': 0.1429443359375, '101': 0.201904296875, '110': 0.150146484375, '111': 0.1202392578125}\n",
      "\tIter: 5\n",
      "\t {'000': 0.0782470703125, '001': 0.0845947265625, '010': 0.11181640625, '011': 0.07763671875, '100': 0.1556396484375, '101': 0.209228515625, '110': 0.1483154296875, '111': 0.134521484375}\n",
      "\tIter: 6\n",
      "\t {'000': 0.0791015625, '001': 0.0791015625, '010': 0.1080322265625, '011': 0.0728759765625, '100': 0.154296875, '101': 0.207763671875, '110': 0.1607666015625, '111': 0.1380615234375}\n",
      "\tIter: 7\n",
      "\t {'000': 0.082763671875, '001': 0.07861328125, '010': 0.1072998046875, '011': 0.0789794921875, '100': 0.161376953125, '101': 0.20654296875, '110': 0.1546630859375, '111': 0.1297607421875}\n",
      "\tIter: 8\n",
      "\t {'000': 0.0810546875, '001': 0.0775146484375, '010': 0.115234375, '011': 0.073974609375, '100': 0.1534423828125, '101': 0.2027587890625, '110': 0.1573486328125, '111': 0.138671875}\n",
      "\tIter: 9\n",
      "\t {'000': 0.0770263671875, '001': 0.0723876953125, '010': 0.113525390625, '011': 0.073974609375, '100': 0.1566162109375, '101': 0.2113037109375, '110': 0.1571044921875, '111': 0.1380615234375}\n",
      "\n",
      "\tExperiments using fake_mumbai backend, with 27 qubits available.\n",
      "\tIter: 0\n",
      "\t {'000': 0.072509765625, '001': 0.076416015625, '010': 0.12353515625, '011': 0.0889892578125, '100': 0.1676025390625, '101': 0.19091796875, '110': 0.1451416015625, '111': 0.1348876953125}\n",
      "\tIter: 1\n",
      "\t {'000': 0.078857421875, '001': 0.0810546875, '010': 0.11083984375, '011': 0.0880126953125, '100': 0.1656494140625, '101': 0.189208984375, '110': 0.15380859375, '111': 0.132568359375}\n",
      "\tIter: 2\n",
      "\t {'000': 0.0860595703125, '001': 0.0811767578125, '010': 0.122314453125, '011': 0.091796875, '100': 0.154541015625, '101': 0.1817626953125, '110': 0.1536865234375, '111': 0.128662109375}\n",
      "\tIter: 3\n",
      "\t {'000': 0.083251953125, '001': 0.0845947265625, '010': 0.119140625, '011': 0.098388671875, '100': 0.150390625, '101': 0.192626953125, '110': 0.1494140625, '111': 0.1221923828125}\n",
      "\tIter: 4\n",
      "\t {'000': 0.079833984375, '001': 0.0775146484375, '010': 0.0968017578125, '011': 0.0869140625, '100': 0.1722412109375, '101': 0.1893310546875, '110': 0.1634521484375, '111': 0.1339111328125}\n",
      "\tIter: 5\n",
      "\t {'000': 0.0750732421875, '001': 0.0799560546875, '010': 0.110107421875, '011': 0.0867919921875, '100': 0.1636962890625, '101': 0.1873779296875, '110': 0.1607666015625, '111': 0.13623046875}\n",
      "\tIter: 6\n",
      "\t {'000': 0.079345703125, '001': 0.0760498046875, '010': 0.1033935546875, '011': 0.083251953125, '100': 0.169189453125, '101': 0.1912841796875, '110': 0.156005859375, '111': 0.1414794921875}\n",
      "\tIter: 7\n",
      "\t {'000': 0.0816650390625, '001': 0.0762939453125, '010': 0.1025390625, '011': 0.082275390625, '100': 0.1688232421875, '101': 0.1890869140625, '110': 0.1551513671875, '111': 0.1441650390625}\n",
      "\tIter: 8\n",
      "\t {'000': 0.0806884765625, '001': 0.08154296875, '010': 0.11279296875, '011': 0.088623046875, '100': 0.162109375, '101': 0.182861328125, '110': 0.1585693359375, '111': 0.1328125}\n",
      "\tIter: 9\n",
      "\t {'000': 0.076416015625, '001': 0.0789794921875, '010': 0.115478515625, '011': 0.087158203125, '100': 0.1663818359375, '101': 0.1817626953125, '110': 0.1634521484375, '111': 0.13037109375}\n",
      "\n",
      "s = 2\n",
      "\n",
      "\tExperiments using fake_montreal backend, with 27 qubits available.\n",
      "\tIter: 0\n",
      "\t {'000': 0.062255859375, '001': 0.0711669921875, '010': 0.1279296875, '011': 0.070068359375, '100': 0.146728515625, '101': 0.2330322265625, '110': 0.1695556640625, '111': 0.1192626953125}\n",
      "\tIter: 1\n",
      "\t {'000': 0.0677490234375, '001': 0.0894775390625, '010': 0.14501953125, '011': 0.0626220703125, '100': 0.1214599609375, '101': 0.2266845703125, '110': 0.1707763671875, '111': 0.1162109375}\n",
      "\tIter: 2\n",
      "\t {'000': 0.0694580078125, '001': 0.0867919921875, '010': 0.1533203125, '011': 0.0648193359375, '100': 0.1112060546875, '101': 0.2320556640625, '110': 0.169677734375, '111': 0.1126708984375}\n",
      "\tIter: 3\n",
      "\t {'000': 0.06201171875, '001': 0.0711669921875, '010': 0.1378173828125, '011': 0.062255859375, '100': 0.1375732421875, '101': 0.2391357421875, '110': 0.1700439453125, '111': 0.1199951171875}\n",
      "\tIter: 4\n",
      "\t {'000': 0.0697021484375, '001': 0.083984375, '010': 0.149658203125, '011': 0.0665283203125, '100': 0.1116943359375, '101': 0.23583984375, '110': 0.1715087890625, '111': 0.111083984375}\n",
      "\tIter: 5\n",
      "\t {'000': 0.0657958984375, '001': 0.07275390625, '010': 0.1392822265625, '011': 0.069580078125, '100': 0.1260986328125, '101': 0.241943359375, '110': 0.16748046875, '111': 0.1170654296875}\n",
      "\tIter: 6\n",
      "\t {'000': 0.0703125, '001': 0.08984375, '010': 0.1497802734375, '011': 0.0699462890625, '100': 0.1142578125, '101': 0.2235107421875, '110': 0.165283203125, '111': 0.1170654296875}\n",
      "\tIter: 7\n",
      "\t {'000': 0.0771484375, '001': 0.089111328125, '010': 0.148681640625, '011': 0.0689697265625, '100': 0.107421875, '101': 0.2373046875, '110': 0.165771484375, '111': 0.1055908203125}\n",
      "\tIter: 8\n",
      "\t {'000': 0.0682373046875, '001': 0.090087890625, '010': 0.145751953125, '011': 0.076171875, '100': 0.116455078125, '101': 0.2283935546875, '110': 0.164794921875, '111': 0.110107421875}\n",
      "\tIter: 9\n",
      "\t {'000': 0.06298828125, '001': 0.07177734375, '010': 0.12744140625, '011': 0.0770263671875, '100': 0.1473388671875, '101': 0.22216796875, '110': 0.1707763671875, '111': 0.1204833984375}\n",
      "\n",
      "\tExperiments using fake_mumbai backend, with 27 qubits available.\n",
      "\tIter: 0\n",
      "\t {'000': 0.093017578125, '001': 0.0858154296875, '010': 0.11767578125, '011': 0.0775146484375, '100': 0.1416015625, '101': 0.2000732421875, '110': 0.1490478515625, '111': 0.13525390625}\n",
      "\tIter: 1\n",
      "\t {'000': 0.0889892578125, '001': 0.0882568359375, '010': 0.1324462890625, '011': 0.0848388671875, '100': 0.1439208984375, '101': 0.1973876953125, '110': 0.14697265625, '111': 0.1171875}\n",
      "\tIter: 2\n",
      "\t {'000': 0.0841064453125, '001': 0.083984375, '010': 0.1361083984375, '011': 0.0767822265625, '100': 0.1307373046875, '101': 0.2083740234375, '110': 0.1588134765625, '111': 0.12109375}\n",
      "\tIter: 3\n",
      "\t {'000': 0.0855712890625, '001': 0.0802001953125, '010': 0.143310546875, '011': 0.071533203125, '100': 0.1234130859375, '101': 0.2088623046875, '110': 0.156982421875, '111': 0.130126953125}\n",
      "\tIter: 4\n",
      "\t {'000': 0.090576171875, '001': 0.0887451171875, '010': 0.1346435546875, '011': 0.0791015625, '100': 0.127685546875, '101': 0.1995849609375, '110': 0.1558837890625, '111': 0.123779296875}\n",
      "\tIter: 5\n",
      "\t {'000': 0.0889892578125, '001': 0.081298828125, '010': 0.1324462890625, '011': 0.0740966796875, '100': 0.12939453125, '101': 0.205810546875, '110': 0.1591796875, '111': 0.1287841796875}\n",
      "\tIter: 6\n",
      "\t {'000': 0.08056640625, '001': 0.0804443359375, '010': 0.1328125, '011': 0.068115234375, '100': 0.1370849609375, '101': 0.2119140625, '110': 0.165771484375, '111': 0.123291015625}\n",
      "\tIter: 7\n",
      "\t {'000': 0.074462890625, '001': 0.077392578125, '010': 0.1141357421875, '011': 0.0767822265625, '100': 0.1455078125, '101': 0.2125244140625, '110': 0.1644287109375, '111': 0.134765625}\n",
      "\tIter: 8\n",
      "\t {'000': 0.0889892578125, '001': 0.0865478515625, '010': 0.1181640625, '011': 0.0811767578125, '100': 0.142578125, '101': 0.196533203125, '110': 0.1519775390625, '111': 0.134033203125}\n",
      "\tIter: 9\n",
      "\t {'000': 0.099609375, '001': 0.0921630859375, '010': 0.1409912109375, '011': 0.0792236328125, '100': 0.1229248046875, '101': 0.19970703125, '110': 0.1510009765625, '111': 0.1143798828125}\n",
      "\n",
      "s = 3\n",
      "\n",
      "\tExperiments using fake_montreal backend, with 27 qubits available.\n",
      "\tIter: 0\n"
     ]
    },
    {
     "name": "stdout",
     "output_type": "stream",
     "text": [
      "\t {'000': 0.0555419921875, '001': 0.078125, '010': 0.1439208984375, '011': 0.055908203125, '100': 0.10888671875, '101': 0.26220703125, '110': 0.1826171875, '111': 0.11279296875}\n",
      "\tIter: 1\n",
      "\t {'000': 0.0435791015625, '001': 0.0736083984375, '010': 0.144287109375, '011': 0.052978515625, '100': 0.114501953125, '101': 0.274169921875, '110': 0.1864013671875, '111': 0.1104736328125}\n",
      "\tIter: 2\n",
      "\t {'000': 0.045166015625, '001': 0.0792236328125, '010': 0.146240234375, '011': 0.05615234375, '100': 0.1080322265625, '101': 0.263671875, '110': 0.189453125, '111': 0.112060546875}\n",
      "\tIter: 3\n",
      "\t {'000': 0.0450439453125, '001': 0.0711669921875, '010': 0.1436767578125, '011': 0.05419921875, '100': 0.108642578125, '101': 0.27880859375, '110': 0.19189453125, '111': 0.1065673828125}\n",
      "\tIter: 4\n",
      "\t {'000': 0.0462646484375, '001': 0.0841064453125, '010': 0.1514892578125, '011': 0.055908203125, '100': 0.1002197265625, '101': 0.2691650390625, '110': 0.183349609375, '111': 0.1094970703125}\n",
      "\tIter: 5\n",
      "\t {'000': 0.040771484375, '001': 0.0684814453125, '010': 0.1468505859375, '011': 0.052001953125, '100': 0.11083984375, '101': 0.2835693359375, '110': 0.1865234375, '111': 0.1109619140625}\n",
      "\tIter: 6\n",
      "\t {'000': 0.057861328125, '001': 0.0777587890625, '010': 0.141845703125, '011': 0.0526123046875, '100': 0.1070556640625, '101': 0.2633056640625, '110': 0.187744140625, '111': 0.11181640625}\n",
      "\tIter: 7\n",
      "\t {'000': 0.0489501953125, '001': 0.0782470703125, '010': 0.1461181640625, '011': 0.053466796875, '100': 0.1070556640625, '101': 0.268310546875, '110': 0.1851806640625, '111': 0.1126708984375}\n",
      "\tIter: 8\n",
      "\t {'000': 0.04296875, '001': 0.066162109375, '010': 0.1435546875, '011': 0.05517578125, '100': 0.112060546875, '101': 0.285888671875, '110': 0.1861572265625, '111': 0.1080322265625}\n",
      "\tIter: 9\n",
      "\t {'000': 0.0440673828125, '001': 0.0665283203125, '010': 0.1517333984375, '011': 0.0517578125, '100': 0.1087646484375, '101': 0.2762451171875, '110': 0.1910400390625, '111': 0.10986328125}\n",
      "\n",
      "\tExperiments using fake_mumbai backend, with 27 qubits available.\n",
      "\tIter: 0\n",
      "\t {'000': 0.0511474609375, '001': 0.075439453125, '010': 0.138427734375, '011': 0.0667724609375, '100': 0.1121826171875, '101': 0.259765625, '110': 0.1851806640625, '111': 0.111083984375}\n",
      "\tIter: 1\n",
      "\t {'000': 0.061279296875, '001': 0.095947265625, '010': 0.1522216796875, '011': 0.066162109375, '100': 0.1053466796875, '101': 0.235595703125, '110': 0.1715087890625, '111': 0.1119384765625}\n",
      "\tIter: 2\n",
      "\t {'000': 0.0821533203125, '001': 0.09033203125, '010': 0.1439208984375, '011': 0.071044921875, '100': 0.1019287109375, '101': 0.2327880859375, '110': 0.166259765625, '111': 0.111572265625}\n",
      "\tIter: 3\n",
      "\t {'000': 0.0577392578125, '001': 0.0958251953125, '010': 0.146728515625, '011': 0.06787109375, '100': 0.1075439453125, '101': 0.2403564453125, '110': 0.1749267578125, '111': 0.1090087890625}\n",
      "\tIter: 4\n",
      "\t {'000': 0.0804443359375, '001': 0.0928955078125, '010': 0.1395263671875, '011': 0.07080078125, '100': 0.106201171875, '101': 0.2330322265625, '110': 0.1649169921875, '111': 0.1121826171875}\n",
      "\tIter: 5\n",
      "\t {'000': 0.078369140625, '001': 0.09423828125, '010': 0.1396484375, '011': 0.0780029296875, '100': 0.107421875, '101': 0.2247314453125, '110': 0.1632080078125, '111': 0.1143798828125}\n",
      "\tIter: 6\n",
      "\t {'000': 0.0791015625, '001': 0.0916748046875, '010': 0.1434326171875, '011': 0.0711669921875, '100': 0.10498046875, '101': 0.228759765625, '110': 0.16748046875, '111': 0.1134033203125}\n",
      "\tIter: 7\n",
      "\t {'000': 0.0562744140625, '001': 0.0802001953125, '010': 0.140625, '011': 0.0638427734375, '100': 0.1202392578125, '101': 0.2491455078125, '110': 0.1722412109375, '111': 0.117431640625}\n",
      "\tIter: 8\n",
      "\t {'000': 0.072998046875, '001': 0.0880126953125, '010': 0.1436767578125, '011': 0.068359375, '100': 0.108642578125, '101': 0.240478515625, '110': 0.1715087890625, '111': 0.1063232421875}\n",
      "\tIter: 9\n",
      "\t {'000': 0.0635986328125, '001': 0.093505859375, '010': 0.1448974609375, '011': 0.06591796875, '100': 0.1016845703125, '101': 0.2347412109375, '110': 0.182861328125, '111': 0.11279296875}\n"
     ]
    }
   ],
   "source": [
    "import numpy as np\n",
    "\n",
    "\"\"\"\n",
    "    Random complex input vector.\n",
    "\"\"\"\n",
    "#n = 3\n",
    "#N = 2**n\n",
    "#rng = np.random.default_rng(42)\n",
    "#input_state = ((1.0 - 0.01) * rng.random(N) + 0.01) + ((1.0 - 0.01) * rng.random(N) + 0.01) * 1j\n",
    "#input_state = input_state/np.linalg.norm(input_state)\n",
    "\"\"\"\"\"\"\n",
    "\"\"\"\n",
    "    Fixed real 8- and 16-dim input vector.\n",
    "\"\"\"\n",
    "input_state = [np.sqrt(0.03), np.sqrt(0.06), np.sqrt(0.15), np.sqrt(0.05), np.sqrt(0.1), np.sqrt(0.3), np.sqrt(0.2), np.sqrt(0.11) ]\n",
    "#input_state = [np.sqrt(0.01), np.sqrt(0.02), np.sqrt(0.04), np.sqrt(0.02), np.sqrt(0.07), np.sqrt(0.08), np.sqrt(0.04), np.sqrt(0.01), np.sqrt(0.08), np.sqrt(0.02), np.sqrt(0.21), np.sqrt(0.09), np.sqrt(0.12), np.sqrt(0.08), np.sqrt(0.05), np.sqrt(0.06) ]\n",
    "N = len(input_state)\n",
    "n = int(np.log2(N))\n",
    "\"\"\"\"\"\"\n",
    "\n",
    "print('n =', n)\n",
    "\n",
    "ideal = np.power(np.abs(input_state),2)\n",
    "print('\\nInput vector probabilities (|x|^2):')\n",
    "print({'{:0{}b}'.format(p, n) : a for p, a in enumerate(ideal)})\n",
    "\n",
    "maes  = {}\n",
    "probs = {}\n",
    "for s in range(1, n+1):\n",
    "    print('\\ns =', s)\n",
    "    backend_probs = {}\n",
    "    backend_maes = {}\n",
    "    for j, backend in enumerate(backends):\n",
    "        backend_name = backend.name()\n",
    "        backend_config = backend.configuration()\n",
    "        backend_qubits = backend_config.n_qubits\n",
    "\n",
    "        backend_probs[backend_name] = []\n",
    "\n",
    "        print('\\n\\tExperiments using {0} backend, with {1} qubits available.'.format(backend_name, backend_qubits))\n",
    "\n",
    "        for k in range(10):\n",
    "            print('\\tIter:', k)\n",
    "            prob = bidirectional_experiment(input_state, s)\n",
    "            backend_probs[backend_name].append([val for key, val in prob.items()])\n",
    "            print('\\t', dict(sorted(prob.items())) )\n",
    "\n",
    "        backend_maes[backend_name] = np.sum(np.abs(np.mean(backend_probs[backend_name],axis=0)-ideal))/len(ideal)\n",
    "        \n",
    "    probs[s] = backend_probs\n",
    "    maes[s]  = backend_maes\n"
   ]
  },
  {
   "cell_type": "markdown",
   "id": "damaged-statistics",
   "metadata": {},
   "source": [
    "# Mean Absolute Error"
   ]
  },
  {
   "cell_type": "code",
   "execution_count": 11,
   "id": "comic-circuit",
   "metadata": {},
   "outputs": [
    {
     "name": "stdout",
     "output_type": "stream",
     "text": [
      "s = 1\n",
      "\tfake_montreal : MAE = 0.04395446777343749\n",
      "\tfake_mumbai : MAE = 0.0486846923828125\n",
      "s = 2\n",
      "\tfake_montreal : MAE = 0.026739501953124998\n",
      "\tfake_mumbai : MAE = 0.039910888671875\n",
      "s = 3\n",
      "\tfake_montreal : MAE = 0.011114501953124996\n",
      "\tfake_mumbai : MAE = 0.024185180664062497\n"
     ]
    }
   ],
   "source": [
    "for s, s_mae in maes.items():\n",
    "    print('s = {0}'.format(s))\n",
    "    for backend, mae in dict(sorted(s_mae.items(), key=lambda item: item[1])).items():\n",
    "        print('\\t{0} : MAE = {1}'.format(backend, mae))"
   ]
  },
  {
   "cell_type": "markdown",
   "id": "western-forest",
   "metadata": {},
   "source": [
    "# Chart Data"
   ]
  },
  {
   "cell_type": "code",
   "execution_count": 12,
   "id": "victorian-sleeve",
   "metadata": {},
   "outputs": [
    {
     "name": "stdout",
     "output_type": "stream",
     "text": [
      "s = 1\n",
      "\tfake_montreal\n",
      "\t[0.08218994\t0.08010254\t0.11359863\t0.07648926\t0.15465088\t0.20549316\n",
      "\t0.15509033\t0.13238525]\n",
      "\tfake_mumbai\n",
      "\t[0.07937012\t0.07935791\t0.11169434\t0.08822021\t0.1640625\t\t0.18762207\n",
      "\t0.15594482\t0.13372803]\n",
      "s = 2\n",
      "\tfake_montreal\n",
      "\t[0.06756592\t0.08161621\t0.14246826\t0.06879883\t0.12402344\t0.23200684\n",
      "\t0.16856689\t0.11495361]\n",
      "\tfake_mumbai\n",
      "\t[0.08748779\t0.08448486\t0.13027344\t0.0769165\t\t0.13448486\t0.20407715\n",
      "\t0.15600586\t0.12626953]\n",
      "s = 3\n",
      "\tfake_montreal\n",
      "\t[0.04702148\t0.07434082\t0.14597168\t0.05401611\t0.10860596\t0.27253418\n",
      "\t0.18703613\t0.11047363]\n",
      "\tfake_mumbai\n",
      "\t[0.06831055\t0.08980713\t0.14331055\t0.06899414\t0.10761719\t0.23793945\n",
      "\t0.17200928\t0.11201172]\n"
     ]
    }
   ],
   "source": [
    "for s, s_probs in probs.items():\n",
    "    print('s = {0}'.format(s))\n",
    "    for backend, backend_probs in s_probs.items():\n",
    "        print('\\t{0}'.format(backend))\n",
    "        print('\\t{0}'.format(str(np.mean(backend_probs, axis=0)).replace(' ', '\\t')))"
   ]
  },
  {
   "cell_type": "markdown",
   "id": "nuclear-bobby",
   "metadata": {},
   "source": [
    "# Plot Charts"
   ]
  },
  {
   "cell_type": "code",
   "execution_count": 13,
   "id": "auburn-token",
   "metadata": {},
   "outputs": [
    {
     "name": "stdout",
     "output_type": "stream",
     "text": [
      "s = 1\n"
     ]
    },
    {
     "data": {
      "image/png": "[encoded data removed]",
      "text/plain": [
       "<Figure size 864x576 with 1 Axes>"
      ]
     },
     "metadata": {
      "needs_background": "light"
     },
     "output_type": "display_data"
    },
    {
     "name": "stdout",
     "output_type": "stream",
     "text": [
      "s = 2\n"
     ]
    },
    {
     "data": {
      "image/png": "[encoded data removed]",
      "text/plain": [
       "<Figure size 864x576 with 1 Axes>"
      ]
     },
     "metadata": {
      "needs_background": "light"
     },
     "output_type": "display_data"
    },
    {
     "name": "stdout",
     "output_type": "stream",
     "text": [
      "s = 3\n"
     ]
    },
    {
     "data": {
      "image/png": "[encoded data removed]",
      "text/plain": [
       "<Figure size 864x576 with 1 Axes>"
      ]
     },
     "metadata": {
      "needs_background": "light"
     },
     "output_type": "display_data"
    }
   ],
   "source": [
    "import numpy as np\n",
    "import matplotlib.pyplot as plt\n",
    "    \n",
    "def plot(labels, averages, stds, xticks):\n",
    "    n_bars = len(xticks)\n",
    "    n_labels = len(labels)\n",
    "    \n",
    "    b_width = (1/n_labels)*0.75\n",
    "    fig = plt.subplots(figsize = (12, 8))\n",
    "\n",
    "    x_pos = np.arange(n_bars)\n",
    "    for i, avg in enumerate(averages):\n",
    "        plt.bar(x_pos, avg, yerr = stds[i], width = b_width, label = labels[i],\n",
    "                align='center', alpha=0.9, ecolor='black', capsize=b_width*40)\n",
    "        \n",
    "        x_pos = [x + b_width for x in x_pos]\n",
    "    \n",
    "    plt.ylabel('probability', fontsize = 15)\n",
    "    plt.xticks([x + b_width*(n_labels-1)/2 for x in range(n_bars)], xticks, fontsize=12, rotation=45)\n",
    "    plt.grid(b=True, axis='y')\n",
    "    plt.yticks(fontsize=12)\n",
    "    plt.legend(fontsize=12)\n",
    "    plt.tight_layout()\n",
    "    #plt.savefig('bar_plot_with_error_bars.png')\n",
    "    plt.show()\n",
    "\n",
    "def plot_result(ideal, probs):\n",
    "    labels   = [ key for key, val in probs.items() ]\n",
    "    averages = [ np.mean(prob, axis=0) for key, prob in probs.items() ]\n",
    "    stds     = [ np.std(prob , axis=0) for key, prob in probs.items() ]\n",
    "    xticks   = ['{:0{}b}'.format(p, n) for p, a in enumerate(input_state)]\n",
    "\n",
    "    labels.insert(0, 'ideal')\n",
    "    averages.insert(0, ideal)\n",
    "    stds.insert(0, [0]*len(ideal))\n",
    "\n",
    "    plot(labels, averages, stds, xticks)\n",
    "\n",
    "for s in range(1, n+1):\n",
    "    print('s =', s)\n",
    "    plot_result(ideal, probs[s])"
   ]
  },
  {
   "cell_type": "code",
   "execution_count": null,
   "id": "formal-mozambique",
   "metadata": {},
   "outputs": [],
   "source": []
  }
 ],
 "metadata": {
  "kernelspec": {
   "display_name": "Python 3 (ipykernel)",
   "language": "python",
   "name": "python3"
  },
  "language_info": {
   "codemirror_mode": {
    "name": "ipython",
    "version": 3
   },
   "file_extension": ".py",
   "mimetype": "text/x-python",
   "name": "python",
   "nbconvert_exporter": "python",
   "pygments_lexer": "ipython3",
   "version": "3.7.11"
  }
 },
 "nbformat": 4,
 "nbformat_minor": 5
}
