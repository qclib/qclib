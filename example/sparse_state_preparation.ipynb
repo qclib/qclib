{
 "cells": [
  {
   "cell_type": "code",
   "execution_count": 2,
   "id": "cf51b27e",
   "metadata": {},
   "outputs": [],
   "source": [
    "import numpy as np\n",
    "import matplotlib.pyplot as plt\n",
    "import qiskit\n",
    "\n",
    "import sys\n",
    "sys.path.append('../')\n",
    "from qclib.cvoqram import cvoqram_initialize\n",
    "from qclib.state_preparation import sparse_initialize\n",
    "from qclib.util import double_sparse\n"
   ]
  },
  {
   "cell_type": "code",
   "execution_count": 3,
   "id": "d9543fa3",
   "metadata": {},
   "outputs": [
    {
     "name": "stdout",
     "output_type": "stream",
     "text": [
      "Help on function sparse_initialize in module qclib.state_preparation:\n",
      "\n",
      "sparse_initialize(state, aux=True)\n",
      "    Create circuit to initialize a sparse quantum state arXiv:2006.00016\n",
      "    \n",
      "    For instance, to initialize the state a|001>+b|100>\n",
      "        $ state = {'001': a, '100': b}\n",
      "        $ circuit = sparse_initialize(state)\n",
      "    \n",
      "    Parameters\n",
      "    ----------\n",
      "    state: dict of {str:int}\n",
      "        A unit vector representing a quantum state.\n",
      "        Keys are binary strings and values are amplitudes.\n",
      "    \n",
      "    Returns\n",
      "    -------\n",
      "    sp_circuit: QuantumCircuit\n",
      "        QuantumCircuit to initialize the state\n",
      "\n"
     ]
    }
   ],
   "source": [
    "help(sparse_initialize)"
   ]
  },
  {
   "cell_type": "code",
   "execution_count": 4,
   "id": "cf23850d",
   "metadata": {},
   "outputs": [
    {
     "name": "stdout",
     "output_type": "stream",
     "text": [
      "Help on function cvoqram_initialize in module qclib.cvoqram:\n",
      "\n",
      "cvoqram_initialize(state)\n",
      "    Creates a circuit to initialize a quantum state arXiv:\n",
      "    \n",
      "    For instance, to initialize the state a|001>+b|100>\n",
      "        $ state = [('001', a), ('100', b)]\n",
      "        $ circuit = sparse_initialize(state)\n",
      "    \n",
      "    Parameters\n",
      "    ----------\n",
      "    state: list of [(str,float)]\n",
      "        A unit vector representing a quantum state.\n",
      "        str: binary string\n",
      "        float: amplitude\n",
      "    \n",
      "    Returns\n",
      "    -------\n",
      "    QuantumCircuit to initialize the state\n",
      "\n"
     ]
    }
   ],
   "source": [
    "help(cvoqram_initialize)"
   ]
  },
  {
   "cell_type": "markdown",
   "id": "b129a907",
   "metadata": {},
   "source": [
    "## Number of cnots with cvoqram and pivot state preparation\n",
    "Number of nonzero amplitudes = $2^s$\n",
    "\n",
    "p = probability of 1s in binary strings"
   ]
  },
  {
   "cell_type": "code",
   "execution_count": 5,
   "id": "32125c39",
   "metadata": {},
   "outputs": [],
   "source": [
    "np.random.seed(1)\n",
    "n_qubits = [6, 7, 8, 9, 10, 11, 12]\n",
    "s = 4\n",
    "p = 0.2\n",
    "repetitions = 30"
   ]
  },
  {
   "cell_type": "code",
   "execution_count": 6,
   "id": "6cf2f21e",
   "metadata": {},
   "outputs": [],
   "source": [
    "cnots_pivot = []\n",
    "cnots_cvoqram = []\n",
    "for n in n_qubits:\n",
    "    cx_pivot = 0\n",
    "    cx_cvoqram = 0\n",
    "    for k in range(repetitions):\n",
    "        data = double_sparse(n, s, p)\n",
    "\n",
    "        qc_pivot = sparse_initialize(dict(data))\n",
    "        qc_cvoqram = cvoqram_initialize(data)\n",
    "\n",
    "        qc_pivot = qiskit.transpile(qc_pivot, basis_gates=['u','cx'])\n",
    "        qc_cvoqram = qiskit.transpile(qc_cvoqram, basis_gates=['u','cx'])\n",
    "        \n",
    "        cx_pivot = cx_pivot + qc_pivot.count_ops()['cx']\n",
    "        cx_cvoqram = cx_cvoqram + qc_cvoqram.count_ops()['cx']\n",
    "        \n",
    "    cnots_pivot.append(cx_pivot / repetitions)\n",
    "    cnots_cvoqram.append(cx_cvoqram / repetitions)"
   ]
  },
  {
   "cell_type": "code",
   "execution_count": 7,
   "id": "0b76d9c9",
   "metadata": {},
   "outputs": [
    {
     "data": {
      "image/png": "[encoded data removed]",
      "text/plain": [
       "<Figure size 432x288 with 1 Axes>"
      ]
     },
     "metadata": {
      "needs_background": "light"
     },
     "output_type": "display_data"
    }
   ],
   "source": [
    "plt.plot(n_qubits, cnots_pivot, color='black', label='sparse isometries')\n",
    "plt.plot(n_qubits, cnots_cvoqram, color='blue', label='cvo-qram')\n",
    "plt.xlabel('qubits')\n",
    "plt.ylabel('cnots')\n",
    "plt.title('s = {}, density = {}'.format(s, p))\n",
    "plt.legend()\n",
    "plt.show()"
   ]
  },
  {
   "cell_type": "code",
   "execution_count": null,
   "id": "833a01e1",
   "metadata": {},
   "outputs": [],
   "source": []
  }
 ],
 "metadata": {
  "kernelspec": {
   "display_name": "Python 3",
   "language": "python",
   "name": "python3"
  },
  "language_info": {
   "codemirror_mode": {
    "name": "ipython",
    "version": 3
   },
   "file_extension": ".py",
   "mimetype": "text/x-python",
   "name": "python",
   "nbconvert_exporter": "python",
   "pygments_lexer": "ipython3",
   "version": "3.8.10"
  }
 },
 "nbformat": 4,
 "nbformat_minor": 5
}
